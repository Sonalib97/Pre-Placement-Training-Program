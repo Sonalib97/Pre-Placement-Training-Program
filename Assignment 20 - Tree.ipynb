{
 "cells": [
  {
   "cell_type": "markdown",
   "id": "08611438",
   "metadata": {},
   "source": [
    "<aside>\n",
    "💡 Question-1\n",
    "\n",
    "Given a binary tree, your task is to find subtree with maximum sum in tree.\n",
    "\n",
    "Examples:\n",
    "```\n",
    "Input1 :       \n",
    "\n",
    "       1\n",
    "\n",
    "     /   \\\n",
    "\n",
    "    2      3\n",
    "\n",
    "   / \\    / \\\n",
    "\n",
    "  4   5  6   7\n",
    "\n",
    "Output1 : 28\n",
    "\n",
    "As all the tree elements are positive, the largest subtree sum is equal to sum of all tree elements.\n",
    "```\n",
    "```\n",
    "Input2 :\n",
    "\n",
    "       1\n",
    "\n",
    "     /    \\\n",
    "\n",
    "   -2      3\n",
    "\n",
    "   / \\    /  \\\n",
    "\n",
    "  4   5  -6   2\n",
    "\n",
    "Output2 : 7\n",
    "\n",
    "Subtree with largest sum is :\n",
    "```\n",
    "```\n",
    " -2\n",
    "\n",
    " / \\\n",
    "\n",
    "4   5\n",
    "\n",
    "Also, entire tree sum is also 7.\n",
    "\n",
    "```"
   ]
  },
  {
   "cell_type": "code",
   "execution_count": 1,
   "id": "e45310cc",
   "metadata": {},
   "outputs": [],
   "source": [
    "class Node:\n",
    "    def __init__(self, val):\n",
    "        self.val = val\n",
    "        self.left = None\n",
    "        self.right = None\n",
    "\n",
    "def findMaxSubtreeSum(root):\n",
    "    if root is None:\n",
    "        return 0\n",
    "\n",
    "    leftSum = findMaxSubtreeSum(root.left)\n",
    "    rightSum = findMaxSubtreeSum(root.right)\n",
    "\n",
    "    currentSum = root.val + leftSum + rightSum\n",
    "\n",
    "    global maxSum\n",
    "    maxSum = max(maxSum, currentSum)\n",
    "\n",
    "    return currentSum"
   ]
  },
  {
   "cell_type": "code",
   "execution_count": 2,
   "id": "646eab52",
   "metadata": {},
   "outputs": [
    {
     "name": "stdout",
     "output_type": "stream",
     "text": [
      "Output 1: 28\n"
     ]
    }
   ],
   "source": [
    "root1 = Node(1)\n",
    "root1.left = Node(2)\n",
    "root1.right = Node(3)\n",
    "root1.left.left = Node(4)\n",
    "root1.left.right = Node(5)\n",
    "root1.right.left = Node(6)\n",
    "root1.right.right = Node(7)\n",
    "\n",
    "maxSum = float('-inf')  # initialize maxSum\n",
    "findMaxSubtreeSum(root1)\n",
    "print(\"Output 1:\", maxSum)"
   ]
  },
  {
   "cell_type": "markdown",
   "id": "6fbf247c",
   "metadata": {},
   "source": [
    "<aside>\n",
    "💡 Question-2\n",
    "\n",
    "Construct the BST (Binary Search Tree) from its given level order traversal.\n",
    "\n",
    "Example:\n",
    "```\n",
    "Input: arr[] = {7, 4, 12, 3, 6, 8, 1, 5, 10}\n",
    "\n",
    "Output: BST:\n",
    "\n",
    "          7\n",
    "\n",
    "        /    \\\n",
    "\n",
    "       4     12\n",
    "\n",
    "      /  \\     /\n",
    "\n",
    "     3    6    8\n",
    "\n",
    "    /     /     \\\n",
    "\n",
    "   1     5      10\n",
    "\n",
    "```"
   ]
  },
  {
   "cell_type": "code",
   "execution_count": 18,
   "id": "c427979e",
   "metadata": {},
   "outputs": [],
   "source": [
    "class Node:\n",
    "    def __init__(self, data):\n",
    "        self.data = data\n",
    "        self.left = None\n",
    "        self.right = None\n",
    " \n",
    " \n",
    "# Function to get a new node\n",
    "def getNode(data):\n",
    " \n",
    "    # Allocate memory\n",
    "    newNode = Node(data)\n",
    " \n",
    "    # put in the data\n",
    "    newNode.data = data\n",
    "    newNode.left = None\n",
    "    newNode.right = None\n",
    "    return newNode\n",
    " \n",
    " \n",
    " # Function to construct a BST from its level order traversal\n",
    "def LevelOrder(root, data):\n",
    "    if(root == None):\n",
    "        root = getNode(data)\n",
    "        return root\n",
    " \n",
    "    if(data <= root.data):\n",
    "        root.left = LevelOrder(root.left, data)\n",
    "    else:\n",
    "        root.right = LevelOrder(root.right, data)\n",
    "    return root\n",
    "\n",
    "def constructBst(arr, n):\n",
    "    if(n == 0):\n",
    "        return None\n",
    "    root = None\n",
    " \n",
    "    for i in range(0, n):\n",
    "        root = LevelOrder(root, arr[i])\n",
    " \n",
    "    return root\n",
    " \n",
    "# Function to print the inorder traversal\n",
    "def inorderTraversal(root):\n",
    "    if (root == None):\n",
    "        return None\n",
    " \n",
    "    inorderTraversal(root.left)\n",
    "    print(root.data, end=\" \")\n",
    "    inorderTraversal(root.right)"
   ]
  },
  {
   "cell_type": "code",
   "execution_count": 19,
   "id": "3fba11e4",
   "metadata": {},
   "outputs": [
    {
     "name": "stdout",
     "output_type": "stream",
     "text": [
      "Inorder Traversal: 1 3 4 5 6 7 8 10 12 "
     ]
    }
   ],
   "source": [
    "arr = [7, 4, 12, 3, 6, 8, 1, 5, 10]\n",
    "n = len(arr)\n",
    " \n",
    "root = constructBst(arr, n)\n",
    " \n",
    "print(\"Inorder Traversal: \", end=\"\")\n",
    "root = inorderTraversal(root)"
   ]
  },
  {
   "cell_type": "markdown",
   "id": "2b854bcc",
   "metadata": {},
   "source": [
    "<aside>\n",
    "💡 Question-3\n",
    "\n",
    "Given an array of size n. The problem is to check whether the given array can represent the level order traversal of a Binary Search Tree or not.\n",
    "\n",
    "Examples:\n",
    "```\n",
    "Input1 : arr[] = {7, 4, 12, 3, 6, 8, 1, 5, 10}\n",
    "\n",
    "Output1 : Yes\n",
    "\n",
    "For the given arr[], the Binary Search Tree is:\n",
    "\n",
    "            7\n",
    "\n",
    "         /    \\\n",
    "\n",
    "       4     12\n",
    "\n",
    "     /  \\     /\n",
    "\n",
    "    3    6    8\n",
    "\n",
    "   /    /     \\\n",
    "\n",
    "  1    5      10\n",
    "\n",
    "Input2 : arr[] = {11, 6, 13, 5, 12, 10}\n",
    "\n",
    "Output2 : No\n",
    "\n",
    "The given arr[] does not represent the level order traversal of a BST.\n",
    "\n",
    "```"
   ]
  },
  {
   "cell_type": "code",
   "execution_count": 20,
   "id": "9389e02d",
   "metadata": {},
   "outputs": [],
   "source": [
    "def representsBSTLevelOrder(arr):\n",
    "    stack = []\n",
    "    root = float('-inf')\n",
    "    i = 0\n",
    "\n",
    "    for i in range(1, len(arr)):\n",
    "        if arr[i] < root:\n",
    "            return False\n",
    "\n",
    "        while len(stack) > 0 and arr[i] > stack[-1]:\n",
    "            root = stack.pop()\n",
    "\n",
    "        stack.append(arr[i])\n",
    "\n",
    "    return True"
   ]
  },
  {
   "cell_type": "code",
   "execution_count": 21,
   "id": "cef8ed86",
   "metadata": {},
   "outputs": [
    {
     "name": "stdout",
     "output_type": "stream",
     "text": [
      "False\n"
     ]
    }
   ],
   "source": [
    "arr2 = [11, 6, 13, 5, 12, 10]\n",
    "print( representsBSTLevelOrder(arr2))"
   ]
  },
  {
   "cell_type": "code",
   "execution_count": null,
   "id": "4fc5798d",
   "metadata": {},
   "outputs": [],
   "source": []
  }
 ],
 "metadata": {
  "kernelspec": {
   "display_name": "Python 3",
   "language": "python",
   "name": "python3"
  },
  "language_info": {
   "codemirror_mode": {
    "name": "ipython",
    "version": 3
   },
   "file_extension": ".py",
   "mimetype": "text/x-python",
   "name": "python",
   "nbconvert_exporter": "python",
   "pygments_lexer": "ipython3",
   "version": "3.8.8"
  }
 },
 "nbformat": 4,
 "nbformat_minor": 5
}
