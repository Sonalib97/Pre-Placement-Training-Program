{
 "cells": [
  {
   "cell_type": "markdown",
   "id": "ccfa17c9",
   "metadata": {},
   "source": [
    "<aside>\n",
    "💡 **Question 1**\n",
    "Given an integer array nums of 2n integers, group these integers into n pairs (a1, b1), (a2, b2),..., (an, bn) such that the sum of min(ai, bi) for all i is maximized. Return the maximized sum.\n",
    "\n",
    "**Example 1:**\n",
    "Input: nums = [1,4,3,2]\n",
    "Output: 4\n",
    "\n",
    "**Explanation:** All possible pairings (ignoring the ordering of elements) are:\n",
    "\n",
    "1. (1, 4), (2, 3) -> min(1, 4) + min(2, 3) = 1 + 2 = 3\n",
    "2. (1, 3), (2, 4) -> min(1, 3) + min(2, 4) = 1 + 2 = 3\n",
    "3. (1, 2), (3, 4) -> min(1, 2) + min(3, 4) = 1 + 3 = 4\n",
    "\n",
    "So the maximum possible sum is 4\n",
    "</aside>"
   ]
  },
  {
   "cell_type": "code",
   "execution_count": 1,
   "id": "3b48cb75",
   "metadata": {},
   "outputs": [
    {
     "name": "stdout",
     "output_type": "stream",
     "text": [
      "4\n"
     ]
    }
   ],
   "source": [
    "class Solution:\n",
    "    def arrayPairSum(self, nums):\n",
    "        return sum(sorted(nums)[::2])\n",
    "    \n",
    "    \n",
    "solution = Solution()\n",
    "\n",
    "nums = [1, 4, 3, 2]\n",
    "result = solution.arrayPairSum(nums)\n",
    "print(result)"
   ]
  },
  {
   "cell_type": "markdown",
   "id": "c6d64459",
   "metadata": {},
   "source": [
    "Question 2\n",
    "\n",
    "Alice has n candies, where the ith candy is of type candyType[i]. Alice noticed that she started to gain weight, so she visited a doctor. \n",
    "\n",
    "The doctor advised Alice to only eat n / 2 of the candies she has (n is always even). Alice likes her candies very much, and she wants to eat the maximum number of different types of candies while still following the doctor's advice. \n",
    "\n",
    "Given the integer array candyType of length n, return the maximum number of different types of candies she can eat if she only eats n / 2 of them.\n",
    "\n",
    "Example 1:\n",
    "Input: candyType = [1,1,2,2,3,3]\n",
    "Output: 3\n",
    "\n",
    "Explanation: Alice can only eat 6 / 2 = 3 candies. Since there are only 3 types, she can eat one of each type"
   ]
  },
  {
   "cell_type": "code",
   "execution_count": 2,
   "id": "e3575783",
   "metadata": {},
   "outputs": [
    {
     "name": "stdout",
     "output_type": "stream",
     "text": [
      "3\n"
     ]
    }
   ],
   "source": [
    "class Solution:\n",
    "    def distributeCandies(self, candies):\n",
    "        return min(len(candies)//2, len(set(candies)))\n",
    "    \n",
    "solution = Solution()\n",
    "\n",
    "candies = [1,1,2,2,3,3]\n",
    "result = solution.distributeCandies(candies)\n",
    "print(result)"
   ]
  },
  {
   "cell_type": "markdown",
   "id": "2ca9f1b4",
   "metadata": {},
   "source": [
    "Question 3\n",
    "\n",
    "We define a harmonious array as an array where the difference between its maximum value\n",
    "and its minimum value is exactly 1.\n",
    "\n",
    "Given an integer array nums, return the length of its longest harmonious subsequence\n",
    "among all its possible subsequences.\n",
    "\n",
    "A subsequence of an array is a sequence that can be derived from the array by deleting some or no elements without changing the order of the remaining elements.\n",
    "\n",
    "Example 1:\n",
    "Input: nums = [1,3,2,2,5,2,3,7]\n",
    "Output: 5\n",
    "\n",
    "Explanation: The longest harmonious subsequence is [3,2,2,2,3]."
   ]
  },
  {
   "cell_type": "code",
   "execution_count": 3,
   "id": "25567ff5",
   "metadata": {},
   "outputs": [
    {
     "name": "stdout",
     "output_type": "stream",
     "text": [
      "5\n"
     ]
    }
   ],
   "source": [
    "def findLHS(self):\n",
    "        mp={}\n",
    "        for i in nums:\n",
    "            if i not in mp:\n",
    "                mp[i]=1\n",
    "            else: mp[i]+=1\n",
    "            \n",
    "        ln=0;\n",
    "        \n",
    "        for i in mp:\n",
    "            if mp.get(i+1):\n",
    "                ln=max(ln,mp[i]+mp[i+1])\n",
    "        return ln \n",
    "    \n",
    "nums = [1, 3, 2, 2, 5, 2, 3, 7]\n",
    "result = findLHS(nums)\n",
    "print(result)"
   ]
  },
  {
   "cell_type": "markdown",
   "id": "b51c11a8",
   "metadata": {},
   "source": [
    "Question 4\n",
    "\n",
    "You have a long flowerbed in which some of the plots are planted, and some are not.\n",
    "However, flowers cannot be planted in adjacent plots.\n",
    "Given an integer array flowerbed containing 0's and 1's, where 0 means empty and 1 means not empty, and an integer n, return true if n new flowers can be planted in the flowerbed without violating the no-adjacent-flowers rule and false otherwise.\n",
    "\n",
    "Example 1:\n",
    "Input: flowerbed = [1,0,0,0,1], n = 1\n",
    "Output: true"
   ]
  },
  {
   "cell_type": "code",
   "execution_count": 4,
   "id": "075430cc",
   "metadata": {},
   "outputs": [
    {
     "name": "stdout",
     "output_type": "stream",
     "text": [
      "True\n"
     ]
    }
   ],
   "source": [
    "class Solution:\n",
    "    def canPlaceFlowers(self, flowerbed, n):\n",
    "        if n == 0:\n",
    "            return True\n",
    "        for i in range(len(flowerbed)):\n",
    "            if flowerbed[i] == 0 and (i == 0 or flowerbed[i-1] == 0) and (i == len(flowerbed)-1 or flowerbed[i+1] == 0):\n",
    "                flowerbed[i] = 1\n",
    "                n -= 1\n",
    "                if n == 0:\n",
    "                    return True\n",
    "        return False\n",
    "    \n",
    "solution = Solution()\n",
    "\n",
    "flowerbed = [1, 0, 0, 0, 1]\n",
    "n = 1\n",
    "print(solution.canPlaceFlowers(flowerbed, n))"
   ]
  },
  {
   "cell_type": "markdown",
   "id": "ae96c8f5",
   "metadata": {},
   "source": [
    "Question 5\n",
    "\n",
    "Given an integer array nums, find three numbers whose product is maximum and return the maximum product.\n",
    "\n",
    "Example 1:\n",
    "Input: nums = [1,2,3]\n",
    "Output: 6"
   ]
  },
  {
   "cell_type": "code",
   "execution_count": 5,
   "id": "fd47ccc7",
   "metadata": {},
   "outputs": [
    {
     "name": "stdout",
     "output_type": "stream",
     "text": [
      "6\n"
     ]
    }
   ],
   "source": [
    "import heapq\n",
    "\n",
    "\n",
    "class Solution:\n",
    "    def maximumProduct(self, nums):\n",
    "        a, b = heapq.nlargest(3, nums), heapq.nsmallest(2, nums)\n",
    "        return max(a[0] * a[1] * a[2], b[0] * b[1] * a[0])\n",
    "    \n",
    "    \n",
    "solution = Solution()\n",
    "\n",
    "nums = [1, 2, 3]\n",
    "result = solution.maximumProduct(nums)\n",
    "print(result)"
   ]
  },
  {
   "cell_type": "markdown",
   "id": "3e60f833",
   "metadata": {},
   "source": [
    "Question 6\n",
    "\n",
    "Given an array of integers nums which is sorted in ascending order, and an integer target,\n",
    "write a function to search target in nums. If target exists, then return its index. Otherwise,\n",
    "return -1.\n",
    "\n",
    "You must write an algorithm with O(log n) runtime complexity.\n",
    "\n",
    "Input: nums = [-1,0,3,5,9,12], target = 9\n",
    "Output: 4\n",
    "\n",
    "Explanation: 9 exists in nums and its index is 4"
   ]
  },
  {
   "cell_type": "code",
   "execution_count": 6,
   "id": "c826fc6e",
   "metadata": {},
   "outputs": [
    {
     "name": "stdout",
     "output_type": "stream",
     "text": [
      "4\n"
     ]
    }
   ],
   "source": [
    "class Solution:\n",
    "    def search(self, nums, target):\n",
    "        left=0\n",
    "        right=len(nums)-1\n",
    "        while(left<= right):\n",
    "            mid=(left+right)//2\n",
    "            if nums[mid]==target:\n",
    "                return mid\n",
    "            elif nums[mid] < target:\n",
    "                 left=mid+1\n",
    "            else:\n",
    "                right=mid-1\n",
    "        return -1\n",
    "    \n",
    "solution = Solution()\n",
    "\n",
    "nums = [-1, 0, 3, 5, 9, 12]\n",
    "target = 9\n",
    "result = solution.search(nums, target)\n",
    "print(result)"
   ]
  },
  {
   "cell_type": "markdown",
   "id": "c2108792",
   "metadata": {},
   "source": [
    "Question 7\n",
    "\n",
    "An array is monotonic if it is either monotone increasing or monotone decreasing.\n",
    "\n",
    "An array nums is monotone increasing if for all i <= j, nums[i] <= nums[j]. An array nums is\n",
    "monotone decreasing if for all i <= j, nums[i] >= nums[j].\n",
    "\n",
    "Given an integer array nums, return true if the given array is monotonic, or false otherwise.\n",
    "\n",
    "Example 1:\n",
    "Input: nums = [1,2,2,3]\n",
    "Output: true"
   ]
  },
  {
   "cell_type": "code",
   "execution_count": 7,
   "id": "01e947a7",
   "metadata": {},
   "outputs": [
    {
     "name": "stdout",
     "output_type": "stream",
     "text": [
      "True\n"
     ]
    }
   ],
   "source": [
    "class Solution(object):\n",
    "    def isMonotonic(self, A):\n",
    "        n = len(A)\n",
    "        if n <= 2: return True\n",
    "\n",
    "        isGreat = False\n",
    "        isLess = False\n",
    "        for i in range(1, n):\n",
    "            if A[i - 1] > A[i]:\n",
    "                isGreat = True\n",
    "            if A[i - 1] < A[i]:\n",
    "                isLess = True\n",
    "\n",
    "            if isGreat and isLess:\n",
    "                return False\n",
    "\n",
    "        return True\n",
    "    \n",
    "solution = Solution()\n",
    "\n",
    "nums = [1, 2, 2, 3]\n",
    "result = solution.isMonotonic(nums)\n",
    "print(result)"
   ]
  },
  {
   "cell_type": "markdown",
   "id": "0b7f38f5",
   "metadata": {},
   "source": [
    "Question 8\n",
    "\n",
    "You are given an integer array nums and an integer k.\n",
    "\n",
    "In one operation, you can choose any index i where 0 <= i < nums.length and change nums[i] to nums[i] + x where x is an integer from the range [-k, k]. You can apply this operation at most once for each index i.\n",
    "\n",
    "The score of nums is the difference between the maximum and minimum elements in nums.\n",
    "\n",
    "Return the minimum score of nums after applying the mentioned operation at most once for each index in it.\n",
    "\n",
    "Example 1:\n",
    "Input: nums = [1], k = 0\n",
    "Output: 0\n",
    "\n",
    "Explanation: The score is max(nums) - min(nums) = 1 - 1 = 0."
   ]
  },
  {
   "cell_type": "code",
   "execution_count": 9,
   "id": "2a94c0ec",
   "metadata": {},
   "outputs": [
    {
     "name": "stdout",
     "output_type": "stream",
     "text": [
      "0\n"
     ]
    }
   ],
   "source": [
    "class Solution:\n",
    "    def smallestRangeI(self, nums, k):\n",
    "        return max(0, max(nums) - min(nums) - 2 * k)\n",
    "    \n",
    "    \n",
    "solution = Solution()\n",
    "\n",
    "nums = [1]\n",
    "k = 0\n",
    "print(solution.smallestRangeI(nums, k))"
   ]
  },
  {
   "cell_type": "code",
   "execution_count": null,
   "id": "56fa6b00",
   "metadata": {},
   "outputs": [],
   "source": []
  }
 ],
 "metadata": {
  "kernelspec": {
   "display_name": "Python 3",
   "language": "python",
   "name": "python3"
  },
  "language_info": {
   "codemirror_mode": {
    "name": "ipython",
    "version": 3
   },
   "file_extension": ".py",
   "mimetype": "text/x-python",
   "name": "python",
   "nbconvert_exporter": "python",
   "pygments_lexer": "ipython3",
   "version": "3.8.8"
  }
 },
 "nbformat": 4,
 "nbformat_minor": 5
}
