{
 "cells": [
  {
   "cell_type": "markdown",
   "id": "4080d1e1",
   "metadata": {},
   "source": [
    "<aside>\n",
    "💡 **Question 1**\n",
    "\n",
    "Given an integer `n`, return *`true` if it is a power of three. Otherwise, return `false`*.\n",
    "\n",
    "An integer `n` is a power of three, if there exists an integer `x` such that `n == 3x`.\n",
    "\n",
    "**Example 1:**\n",
    "\n",
    "```\n",
    "Input: n = 27\n",
    "Output: true\n",
    "Explanation: 27 = 33\n",
    "```\n",
    "\n",
    "**Example 2:**\n",
    "\n",
    "```\n",
    "Input: n = 0\n",
    "Output: false\n",
    "Explanation: There is no x where 3x = 0.\n",
    "\n",
    "```\n",
    "\n",
    "**Example 3:**\n",
    "\n",
    "</aside>\n",
    "Input: n = -1\n",
    "    \n",
    "Output: false\n",
    "    \n",
    "Explanation: There is no x where 3x = (-1).\n"
   ]
  },
  {
   "cell_type": "code",
   "execution_count": 5,
   "id": "0ef17d9e",
   "metadata": {},
   "outputs": [],
   "source": [
    "def isPowerOfThree(n):\n",
    "    if n <= 0:\n",
    "        return False\n",
    "    \n",
    "    while n % 3 == 0:\n",
    "        n //= 3\n",
    "    \n",
    "    return n == 1"
   ]
  },
  {
   "cell_type": "code",
   "execution_count": 6,
   "id": "8619b4d7",
   "metadata": {},
   "outputs": [
    {
     "name": "stdout",
     "output_type": "stream",
     "text": [
      "True\n",
      "False\n",
      "False\n"
     ]
    }
   ],
   "source": [
    "n = 27\n",
    "print(isPowerOfThree(n))  \n",
    "n = 0\n",
    "print(isPowerOfThree(n))  \n",
    "\n",
    "n=-1\n",
    "print(isPowerOfThree(n))"
   ]
  },
  {
   "cell_type": "markdown",
   "id": "a15164d5",
   "metadata": {},
   "source": [
    "<aside>\n",
    "💡 **Question 2**\n",
    "\n",
    "You have a list `arr` of all integers in the range `[1, n]` sorted in a strictly increasing order. Apply the following algorithm on `arr`:\n",
    "\n",
    "- Starting from left to right, remove the first number and every other number afterward until you reach the end of the list.\n",
    "- Repeat the previous step again, but this time from right to left, remove the rightmost number and every other number from the remaining numbers.\n",
    "- Keep repeating the steps again, alternating left to right and right to left, until a single number remains.\n",
    "\n",
    "Given the integer `n`, return *the last number that remains in* `arr`.\n",
    "\n",
    "**Example 1:**\n",
    "\n",
    "```\n",
    "Input: n = 9\n",
    "Output: 6\n",
    "Explanation:\n",
    "arr = [1, 2,3, 4,5, 6,7, 8,9]\n",
    "arr = [2,4, 6,8]\n",
    "arr = [2, 6]\n",
    "arr = [6]\n",
    "\n",
    "```\n",
    "\n",
    "**Example 2:**\n",
    "\n",
    "</aside>\n",
    "\n",
    "Input: n = 1\n",
    "    \n",
    "Output: 1"
   ]
  },
  {
   "cell_type": "code",
   "execution_count": 7,
   "id": "7ed4bd02",
   "metadata": {},
   "outputs": [],
   "source": [
    "def lastRemaining(n):\n",
    "    left_to_right = True\n",
    "    remaining = n\n",
    "    step = 1\n",
    "    head = 1\n",
    "\n",
    "    while remaining > 1:\n",
    "        if left_to_right or remaining % 2 == 1:\n",
    "            head += step\n",
    "\n",
    "        remaining //= 2\n",
    "        step *= 2\n",
    "        left_to_right = not left_to_right\n",
    "\n",
    "    return head"
   ]
  },
  {
   "cell_type": "code",
   "execution_count": 8,
   "id": "00e463b0",
   "metadata": {},
   "outputs": [
    {
     "name": "stdout",
     "output_type": "stream",
     "text": [
      "6\n",
      "1\n"
     ]
    }
   ],
   "source": [
    "n = 9\n",
    "print(lastRemaining(n))  \n",
    "\n",
    "n = 1\n",
    "print(lastRemaining(n))  "
   ]
  },
  {
   "cell_type": "markdown",
   "id": "f9964f96",
   "metadata": {},
   "source": [
    "<aside>\n",
    "💡 **Question 3**\n",
    "\n",
    "****Given a set represented as a string, write a recursive code to print all subsets of it. The subsets can be printed in any order.\n",
    "\n",
    "**Example 1:**\n",
    "\n",
    "Input :  set = “abc”\n",
    "\n",
    "Output : { “”, “a”, “b”, “c”, “ab”, “ac”, “bc”, “abc”}\n",
    "\n",
    "**Example 2:**\n",
    "\n",
    "Input : set = “abcd”\n",
    "\n",
    "Output : { “”, “a” ,”ab” ,”abc” ,”abcd”, “abd” ,”ac” ,”acd”, “ad” ,”b”, “bc” ,”bcd” ,”bd” ,”c” ,”cd” ,”d” }\n",
    "\n",
    "</aside>"
   ]
  },
  {
   "cell_type": "code",
   "execution_count": 9,
   "id": "16848dda",
   "metadata": {},
   "outputs": [],
   "source": [
    "def printSubsets(set_str, subset=\"\"):\n",
    "    if len(set_str) == 0:\n",
    "        print(subset)\n",
    "        return\n",
    "\n",
    "    # Include the current character in the subset\n",
    "    printSubsets(set_str[1:], subset + set_str[0])\n",
    "\n",
    "    # Exclude the current character from the subset\n",
    "    printSubsets(set_str[1:], subset)"
   ]
  },
  {
   "cell_type": "code",
   "execution_count": 10,
   "id": "3f8a3ffa",
   "metadata": {},
   "outputs": [
    {
     "name": "stdout",
     "output_type": "stream",
     "text": [
      "abcd\n",
      "abc\n",
      "abd\n",
      "ab\n",
      "acd\n",
      "ac\n",
      "ad\n",
      "a\n",
      "bcd\n",
      "bc\n",
      "bd\n",
      "b\n",
      "cd\n",
      "c\n",
      "d\n",
      "\n"
     ]
    }
   ],
   "source": [
    "set_str = \"abcd\"\n",
    "printSubsets(set_str)"
   ]
  },
  {
   "cell_type": "markdown",
   "id": "67cc8b45",
   "metadata": {},
   "source": [
    "<aside>\n",
    "💡 **Question 4**\n",
    "\n",
    "Given a string calculate length of the string using recursion.\n",
    "\n",
    "**Examples:**\n",
    "\n",
    "</aside>\n",
    "\n",
    "Input : str = \"abcd\"\n",
    "Output :4\n",
    "\n",
    "Input : str = \"GEEKSFORGEEKS\"\n",
    "Output :13"
   ]
  },
  {
   "cell_type": "code",
   "execution_count": 12,
   "id": "b6f04f80",
   "metadata": {},
   "outputs": [],
   "source": [
    "def calculateLength(str):\n",
    "    if str == \"\":\n",
    "        return 0\n",
    "    else:\n",
    "        return 1 + calculateLength(str[1:])"
   ]
  },
  {
   "cell_type": "code",
   "execution_count": 13,
   "id": "30d0f58f",
   "metadata": {},
   "outputs": [
    {
     "name": "stdout",
     "output_type": "stream",
     "text": [
      "Length of 'GEEKSFORGEEKS' is: 13\n"
     ]
    }
   ],
   "source": [
    "str2 = \"GEEKSFORGEEKS\"\n",
    "print(\"Length of '{}' is: {}\".format(str2, calculateLength(str2)))"
   ]
  },
  {
   "cell_type": "markdown",
   "id": "f4304c8a",
   "metadata": {},
   "source": [
    "<aside>\n",
    "💡 **Question 5**\n",
    "\n",
    "We are given a string S, we need to find count of all contiguous substrings starting and ending with same character.\n",
    "\n",
    "**Examples :**\n",
    "\n",
    "</aside>\n",
    "\n",
    "Input  : S = \"abcab\"\n",
    "Output : 7\n",
    "There are 15 substrings of \"abcab\"\n",
    "a, ab, abc, abca, abcab, b, bc, bca\n",
    "bcab, c, ca, cab, a, ab, b\n",
    "Out of the above substrings, there\n",
    "are 7 substrings : a, abca, b, bcab,\n",
    "c, a and b.\n",
    "\n",
    "Input  : S = \"aba\"\n",
    "Output : 4\n",
    "The substrings are a, b, a and aba"
   ]
  },
  {
   "cell_type": "code",
   "execution_count": 14,
   "id": "5be9ce06",
   "metadata": {},
   "outputs": [],
   "source": [
    "def countSubstrings(s):\n",
    "    count = 0\n",
    "    n = len(s)\n",
    "\n",
    "    # Iterate over all possible substrings\n",
    "    for i in range(n):\n",
    "        for j in range(i, n):\n",
    "            # Check if the substring starts and ends with the same character\n",
    "            if s[i] == s[j]:\n",
    "                count += 1\n",
    "\n",
    "    return count"
   ]
  },
  {
   "cell_type": "code",
   "execution_count": 15,
   "id": "fbe46a39",
   "metadata": {},
   "outputs": [
    {
     "name": "stdout",
     "output_type": "stream",
     "text": [
      "Count of substrings for 'abcab': 7\n",
      "Count of substrings for 'aba': 4\n"
     ]
    }
   ],
   "source": [
    "s1 = \"abcab\"\n",
    "print(\"Count of substrings for '{}': {}\".format(s1, countSubstrings(s1)))\n",
    "\n",
    "s2 = \"aba\"\n",
    "print(\"Count of substrings for '{}': {}\".format(s2, countSubstrings(s2)))"
   ]
  },
  {
   "cell_type": "markdown",
   "id": "f253cbad",
   "metadata": {},
   "source": [
    "<aside>\n",
    "💡 **Question 6**\n",
    "\n",
    "The [tower of Hanoi](https://en.wikipedia.org/wiki/Tower_of_Hanoi) is a famous puzzle where we have three rods and **N** disks. The objective of the puzzle is to move the entire stack to another rod. You are given the number of discs **N**. Initially, these discs are in the rod 1. You need to print all the steps of discs movement so that all the discs reach the 3rd rod. Also, you need to find the total moves.**Note:** The discs are arranged such that the **top disc is numbered 1** and the **bottom-most disc is numbered N**. Also, all the discs have **different sizes** and a bigger disc **cannot** be put on the top of a smaller disc. Refer the provided link to get a better clarity about the puzzle.\n",
    "\n",
    "**Example 1:**\n",
    "\n",
    "</aside>\n",
    "Input:\n",
    "N = 2\n",
    "Output:\n",
    "move disk 1 from rod 1 to rod 2\n",
    "move disk 2 from rod 1 to rod 3\n",
    "move disk 1 from rod 2 to rod 3\n",
    "3\n",
    "Explanation:For N=2 , steps will be\n",
    "as follows in the example and total\n",
    "3 steps will be taken.\n",
    "\n",
    "Example 2:\n",
    "Input:\n",
    "N = 3\n",
    "Output:\n",
    "move disk 1 from rod 1 to rod 3\n",
    "move disk 2 from rod 1 to rod 2\n",
    "move disk 1 from rod 3 to rod 2\n",
    "move disk 3 from rod 1 to rod 3\n",
    "move disk 1 from rod 2 to rod 1\n",
    "move disk 2 from rod 2 to rod 3\n",
    "move disk 1 from rod 1 to rod 3\n",
    "7\n",
    "Explanation:For N=3 , steps will be\n",
    "as follows in the example and total\n",
    "7 steps will be taken.   "
   ]
  },
  {
   "cell_type": "code",
   "execution_count": 16,
   "id": "9aad43c7",
   "metadata": {},
   "outputs": [],
   "source": [
    "def towerOfHanoi(n, source, destination, auxiliary):\n",
    "    if n == 1:\n",
    "        print(\"Move disk 1 from rod {} to rod {}\".format(source, destination))\n",
    "        return 1\n",
    "    \n",
    "    moves = 0\n",
    "    \n",
    "    # Move n-1 disks from source to auxiliary rod\n",
    "    moves += towerOfHanoi(n-1, source, auxiliary, destination)\n",
    "    \n",
    "    # Move the nth disk from source to destination rod\n",
    "    print(\"Move disk {} from rod {} to rod {}\".format(n, source, destination))\n",
    "    moves += 1\n",
    "    \n",
    "    # Move the n-1 disks from auxiliary to destination rod\n",
    "    moves += towerOfHanoi(n-1, auxiliary, destination, source)\n",
    "    \n",
    "    return moves"
   ]
  },
  {
   "cell_type": "code",
   "execution_count": 17,
   "id": "60ed733e",
   "metadata": {},
   "outputs": [
    {
     "name": "stdout",
     "output_type": "stream",
     "text": [
      "Move disk 1 from rod 1 to rod 2\n",
      "Move disk 2 from rod 1 to rod 3\n",
      "Move disk 1 from rod 2 to rod 3\n",
      "Total moves: 3\n"
     ]
    }
   ],
   "source": [
    "n = 2  # Number of discs\n",
    "source = 1  # Source rod\n",
    "destination = 3  # Destination rod\n",
    "auxiliary = 2  # Auxiliary rod\n",
    "\n",
    "total_moves = towerOfHanoi(n, source, destination, auxiliary)\n",
    "print(\"Total moves:\", total_moves)"
   ]
  },
  {
   "cell_type": "markdown",
   "id": "898a5418",
   "metadata": {},
   "source": [
    "<aside>\n",
    "💡 **Question 7**\n",
    "\n",
    "Given a string **str**, the task is to print all the permutations of **str**. A **permutation** is an arrangement of all or part of a set of objects, with regard to the order of the arrangement. For instance, the words ‘bat’ and ‘tab’ represents two distinct permutation (or arrangements) of a similar three letter word.\n",
    "\n",
    "**Examples:**\n",
    "\n",
    "> Input: str = “cd”\n",
    "> \n",
    "> \n",
    "> **Output:** cd dc\n",
    "> \n",
    "> **Input:** str = “abb”\n",
    "> \n",
    "> **Output:** abb abb bab bba bab bba\n",
    "> \n",
    "</aside>"
   ]
  },
  {
   "cell_type": "code",
   "execution_count": 18,
   "id": "49a6540d",
   "metadata": {},
   "outputs": [],
   "source": [
    "def permute(s, left, right):\n",
    "    if left == right:\n",
    "        print(''.join(s))\n",
    "    else:\n",
    "        for i in range(left, right + 1):\n",
    "            # Swap characters\n",
    "            s[left], s[i] = s[i], s[left]\n",
    "            \n",
    "            # Recursively generate permutations\n",
    "            permute(s, left + 1, right)\n",
    "            \n",
    "            # Restore the original order\n",
    "            s[left], s[i] = s[i], s[left]"
   ]
  },
  {
   "cell_type": "code",
   "execution_count": 19,
   "id": "81b326c6",
   "metadata": {},
   "outputs": [
    {
     "name": "stdout",
     "output_type": "stream",
     "text": [
      "cd\n",
      "dc\n"
     ]
    }
   ],
   "source": [
    "str = \"cd\"\n",
    "permute(list(str), 0, len(str) - 1)"
   ]
  },
  {
   "cell_type": "markdown",
   "id": "ac583b18",
   "metadata": {},
   "source": [
    "<aside>\n",
    "💡 **Question 8**\n",
    "\n",
    "Given a string, count total number of consonants in it. A consonant is an English alphabet character that is not vowel (a, e, i, o and u). Examples of constants are b, c, d, f, and g.\n",
    "\n",
    "**Examples :**\n",
    "\n",
    "</aside>\n",
    "Input : abc de\n",
    "Output : 3\n",
    "There are three consonants b, c and d.\n",
    "\n",
    "Input : geeksforgeeks portal\n",
    "Output : 12"
   ]
  },
  {
   "cell_type": "code",
   "execution_count": 20,
   "id": "7e255cc9",
   "metadata": {},
   "outputs": [],
   "source": [
    "def count_consonants(s):\n",
    "    consonants = \"bcdfghjklmnpqrstvwxyzBCDFGHJKLMNPQRSTVWXYZ\"\n",
    "    count = 0\n",
    "    for char in s:\n",
    "        if char in consonants:\n",
    "            count += 1\n",
    "    return count"
   ]
  },
  {
   "cell_type": "code",
   "execution_count": 21,
   "id": "77983679",
   "metadata": {},
   "outputs": [
    {
     "name": "stdout",
     "output_type": "stream",
     "text": [
      "3\n",
      "12\n"
     ]
    }
   ],
   "source": [
    "string1 = \"abc de\"\n",
    "string2 = \"geeksforgeeks portal\"\n",
    "\n",
    "print(count_consonants(string1))\n",
    "print(count_consonants(string2))"
   ]
  },
  {
   "cell_type": "code",
   "execution_count": null,
   "id": "5d71af5a",
   "metadata": {},
   "outputs": [],
   "source": []
  }
 ],
 "metadata": {
  "kernelspec": {
   "display_name": "Python 3",
   "language": "python",
   "name": "python3"
  },
  "language_info": {
   "codemirror_mode": {
    "name": "ipython",
    "version": 3
   },
   "file_extension": ".py",
   "mimetype": "text/x-python",
   "name": "python",
   "nbconvert_exporter": "python",
   "pygments_lexer": "ipython3",
   "version": "3.8.8"
  }
 },
 "nbformat": 4,
 "nbformat_minor": 5
}
